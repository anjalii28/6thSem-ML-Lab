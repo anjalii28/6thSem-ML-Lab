{
  "nbformat": 4,
  "nbformat_minor": 0,
  "metadata": {
    "colab": {
      "provenance": []
    },
    "kernelspec": {
      "name": "python3",
      "display_name": "Python 3"
    },
    "language_info": {
      "name": "python"
    }
  },
  "cells": [
    {
      "cell_type": "code",
      "execution_count": null,
      "metadata": {
        "id": "kwo8dDvtvFr1"
      },
      "outputs": [],
      "source": [
        "import numpy as np\n",
        "import pandas as pd\n",
        "import matplotlib.pyplot as plt\n",
        "from sklearn.datasets import load_iris\n",
        "from sklearn.cluster import KMeans\n",
        "from sklearn.preprocessing import StandardScaler\n",
        "from sklearn.metrics import silhouette_score\n",
        "\n",
        "# Step 1: Load Iris dataset\n",
        "iris = load_iris()\n",
        "df = pd.DataFrame(iris.data, columns=iris.feature_names)\n",
        "df['target'] = iris.target\n",
        "\n",
        "# Keep only petal length and petal width\n",
        "X = df[['petal length (cm)', 'petal width (cm)']].values\n",
        "\n",
        "# Step 2: Check impact of scaling\n",
        "# Try without scaling\n",
        "sse_unscaled = []\n",
        "for k in range(1, 11):\n",
        "    kmeans = KMeans(n_clusters=k, random_state=42)\n",
        "    kmeans.fit(X)\n",
        "    sse_unscaled.append(kmeans.inertia_)\n",
        "\n",
        "# Now scale the features\n",
        "scaler = StandardScaler()\n",
        "X_scaled = scaler.fit_transform(X)\n",
        "\n",
        "sse_scaled = []\n",
        "for k in range(1, 11):\n",
        "    kmeans = KMeans(n_clusters=k, random_state=42)\n",
        "    kmeans.fit(X_scaled)\n",
        "    sse_scaled.append(kmeans.inertia_)\n",
        "\n",
        "# Step 3: Plot Elbow Comparison (Scaled vs Unscaled)\n",
        "plt.figure(figsize=(10, 5))\n",
        "\n",
        "plt.plot(range(1, 11), sse_unscaled, marker='o', label='Unscaled')\n",
        "plt.plot(range(1, 11), sse_scaled, marker='s', label='Scaled')\n",
        "plt.title('Elbow Method (Petal Features Only)')\n",
        "plt.xlabel('Number of Clusters (k)')\n",
        "plt.ylabel('SSE (Inertia)')\n",
        "plt.legend()\n",
        "plt.grid(True)\n",
        "plt.show()"
      ]
    }
  ]
}