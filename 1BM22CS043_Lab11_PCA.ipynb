{
  "nbformat": 4,
  "nbformat_minor": 0,
  "metadata": {
    "colab": {
      "provenance": []
    },
    "kernelspec": {
      "name": "python3",
      "display_name": "Python 3"
    },
    "language_info": {
      "name": "python"
    }
  },
  "cells": [
    {
      "cell_type": "code",
      "execution_count": 2,
      "metadata": {
        "colab": {
          "base_uri": "https://localhost:8080/"
        },
        "id": "kwo8dDvtvFr1",
        "outputId": "b6fd1d4f-757a-418b-dc86-884b7c3e26eb"
      },
      "outputs": [
        {
          "output_type": "stream",
          "name": "stdout",
          "text": [
            "Accuracy using PCA with 2 components: 0.5167\n"
          ]
        }
      ],
      "source": [
        "import numpy as np\n",
        "import matplotlib.pyplot as plt\n",
        "from sklearn.datasets import load_digits\n",
        "from sklearn.decomposition import PCA\n",
        "from sklearn.model_selection import train_test_split\n",
        "from sklearn.preprocessing import StandardScaler\n",
        "from sklearn.linear_model import LogisticRegression\n",
        "from sklearn.metrics import accuracy_score\n",
        "\n",
        "# Step 1: Load Digits dataset\n",
        "digits = load_digits()\n",
        "X = digits.data  # Features\n",
        "y = digits.target  # Labels\n",
        "\n",
        "# Step 2: Split the data into training and testing sets (80% - 20%)\n",
        "X_train, X_test, y_train, y_test = train_test_split(X, y, test_size=0.2, random_state=42)\n",
        "\n",
        "# Step 3: Scale the data\n",
        "scaler = StandardScaler()\n",
        "X_train_scaled = scaler.fit_transform(X_train)\n",
        "X_test_scaled = scaler.transform(X_test)\n",
        "\n",
        "# Step 4: Apply PCA with n_components = 2\n",
        "pca = PCA(n_components=2)\n",
        "X_train_pca = pca.fit_transform(X_train_scaled)\n",
        "X_test_pca = pca.transform(X_test_scaled)\n",
        "\n",
        "# Step 5: Train Logistic Regression on the PCA-transformed data\n",
        "logreg = LogisticRegression(max_iter=10000)\n",
        "logreg.fit(X_train_pca, y_train)\n",
        "\n",
        "# Step 6: Make predictions on the test set\n",
        "y_pred = logreg.predict(X_test_pca)\n",
        "\n",
        "# Step 7: Evaluate accuracy score\n",
        "accuracy = accuracy_score(y_test, y_pred)\n",
        "print(f'Accuracy using PCA with 2 components: {accuracy:.4f}')\n"
      ]
    }
  ]
}